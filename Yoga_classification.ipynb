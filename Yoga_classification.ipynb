{
  "cells": [
    {
      "cell_type": "code",
      "execution_count": 34,
      "metadata": {
        "id": "4usLc6EsAMLG"
      },
      "outputs": [],
      "source": [
        "import numpy as np\n",
        "import tensorflow as tf\n",
        "import matplotlib.pyplot as plt\n",
        "%matplotlib inline\n",
        "from tensorflow.keras.preprocessing.image import ImageDataGenerator\n",
        "\n",
        "import os"
      ]
    },
    {
      "cell_type": "code",
      "execution_count": null,
      "metadata": {
        "id": "RzK2Ve29Aldt"
      },
      "outputs": [],
      "source": [
        "#!unzip '/content/drive/MyDrive/Dataste/yoga.zip' -d '/content/drive/MyDrive/Dataste/yoga'"
      ]
    },
    {
      "cell_type": "code",
      "execution_count": 35,
      "metadata": {
        "id": "yud9RQtBBWV0"
      },
      "outputs": [],
      "source": [
        "path_train = '/content/drive/MyDrive/Dataste/yoga/DATASET/TRAIN'\n",
        "path_test = '/content/drive/MyDrive/Dataste/yoga/DATASET/TEST'\n",
        "\n",
        "folder_names = os.listdir(path)"
      ]
    },
    {
      "cell_type": "code",
      "execution_count": 36,
      "metadata": {
        "colab": {
          "base_uri": "https://localhost:8080/"
        },
        "id": "xUlNV1X2CRHc",
        "outputId": "28aee3ad-7885-4d98-d599-399c4927e9c0"
      },
      "outputs": [
        {
          "output_type": "execute_result",
          "data": {
            "text/plain": [
              "['downdog', 'goddess', 'plank', 'tree', 'warrior2']"
            ]
          },
          "metadata": {},
          "execution_count": 36
        }
      ],
      "source": [
        "folder_names"
      ]
    },
    {
      "cell_type": "code",
      "execution_count": 37,
      "metadata": {
        "id": "ZAjHYGKKCSfN"
      },
      "outputs": [],
      "source": [
        "train_datagen = ImageDataGenerator(width_shift_range= 0.1,\n",
        "                                  horizontal_flip = True,\n",
        "                                  rescale = 1./255,\n",
        "                                  validation_split = 0.2)\n",
        "test_datagen = ImageDataGenerator(rescale = 1./255,\n",
        "                                 validation_split = 0.2)"
      ]
    },
    {
      "cell_type": "code",
      "execution_count": 40,
      "metadata": {
        "colab": {
          "base_uri": "https://localhost:8080/"
        },
        "id": "BYlnBWswDJTe",
        "outputId": "8c3f6a4e-c968-4180-af21-63078fb55676"
      },
      "outputs": [
        {
          "output_type": "execute_result",
          "data": {
            "text/plain": [
              "keras.preprocessing.image.ImageDataGenerator"
            ]
          },
          "metadata": {},
          "execution_count": 40
        }
      ],
      "source": [
        "type(train_datagen)"
      ]
    },
    {
      "cell_type": "code",
      "source": [
        "train_generator =  train_datagen.flow_from_directory(directory = path_train,\n",
        "                                                    target_size = (224,224),\n",
        "                                                    color_mode = 'rgb',\n",
        "                                                    class_mode = 'categorical',\n",
        "                                                    batch_size = 16,\n",
        "                                                    subset = 'training')\n",
        "validation_generator  = test_datagen.flow_from_directory(directory = path_test,\n",
        "                                                  target_size = (224,224),\n",
        "                                                  color_mode = 'rgb',\n",
        "                                                  class_mode = 'categorical',\n",
        "                                                  subset = 'validation')"
      ],
      "metadata": {
        "colab": {
          "base_uri": "https://localhost:8080/"
        },
        "id": "j_xD4j6nXHDi",
        "outputId": "4fc77062-0d1c-4ada-bacd-f2101abcddad"
      },
      "execution_count": 43,
      "outputs": [
        {
          "output_type": "stream",
          "name": "stdout",
          "text": [
            "Found 866 images belonging to 5 classes.\n",
            "Found 92 images belonging to 5 classes.\n"
          ]
        }
      ]
    },
    {
      "cell_type": "code",
      "source": [
        "model = tf.keras.models.Sequential()\n"
      ],
      "metadata": {
        "id": "Gj4Dpax8XNsy"
      },
      "execution_count": 44,
      "outputs": []
    },
    {
      "cell_type": "code",
      "source": [
        "model.add(tf.keras.layers.Conv2D( 64,(3,3),activation='relu',padding='same',input_shape = (224,224,3)))\n",
        "\n",
        "\n",
        "model.add(tf.keras.layers.MaxPooling2D(2,2))\n",
        "model.add(tf.keras.layers.Dropout(0.25))\n",
        "model.add( tf.keras.layers.Conv2D(128, (3,3), activation='relu',padding = 'Same'))\n",
        "model.add(   tf.keras.layers.MaxPooling2D(2,2))\n",
        "model.add(    tf.keras.layers.Dropout(0.25))\n",
        "model.add(tf.keras.layers.Conv2D(256, (3,3), activation='relu',padding = 'Same'))\n",
        "model.add( tf.keras.layers.MaxPooling2D(2,2))\n",
        "model.add( tf.keras.layers.Dropout(0.25))\n",
        "model.add( tf.keras.layers.Flatten())\n",
        "model.add(tf.keras.layers.Dense(1024, activation='relu'))\n",
        "model.add(tf.keras.layers.Dropout(0.5))\n",
        "model.add(tf.keras.layers.Dense(5, activation='softmax'))"
      ],
      "metadata": {
        "id": "KRbF6Y8OXlHt"
      },
      "execution_count": 47,
      "outputs": []
    },
    {
      "cell_type": "code",
      "source": [
        "optimizer = tf.keras.optimizers.Adam(lr=0.001)\n",
        "model.compile(loss='categorical_crossentropy',\n",
        "              optimizer = optimizer,\n",
        "              metrics=['accuracy'])"
      ],
      "metadata": {
        "colab": {
          "base_uri": "https://localhost:8080/"
        },
        "id": "mIENg7vVYOTW",
        "outputId": "069d05c1-1a8d-4855-811e-ee1420bea1a0"
      },
      "execution_count": 48,
      "outputs": [
        {
          "output_type": "stream",
          "name": "stderr",
          "text": [
            "/usr/local/lib/python3.7/dist-packages/keras/optimizer_v2/adam.py:105: UserWarning: The `lr` argument is deprecated, use `learning_rate` instead.\n",
            "  super(Adam, self).__init__(name, **kwargs)\n"
          ]
        }
      ]
    },
    {
      "cell_type": "code",
      "source": [
        "model.summary()"
      ],
      "metadata": {
        "colab": {
          "base_uri": "https://localhost:8080/"
        },
        "id": "i-PoJDVBZETB",
        "outputId": "ccacc8c0-13fb-4c7b-b86c-9e384d865035"
      },
      "execution_count": 49,
      "outputs": [
        {
          "output_type": "stream",
          "name": "stdout",
          "text": [
            "Model: \"sequential\"\n",
            "_________________________________________________________________\n",
            " Layer (type)                Output Shape              Param #   \n",
            "=================================================================\n",
            " conv2d (Conv2D)             (None, 224, 224, 64)      1792      \n",
            "                                                                 \n",
            " max_pooling2d (MaxPooling2D  (None, 112, 112, 64)     0         \n",
            " )                                                               \n",
            "                                                                 \n",
            " dropout (Dropout)           (None, 112, 112, 64)      0         \n",
            "                                                                 \n",
            " conv2d_3 (Conv2D)           (None, 112, 112, 64)      36928     \n",
            "                                                                 \n",
            " max_pooling2d_3 (MaxPooling  (None, 56, 56, 64)       0         \n",
            " 2D)                                                             \n",
            "                                                                 \n",
            " dropout_4 (Dropout)         (None, 56, 56, 64)        0         \n",
            "                                                                 \n",
            " conv2d_4 (Conv2D)           (None, 56, 56, 128)       73856     \n",
            "                                                                 \n",
            " max_pooling2d_4 (MaxPooling  (None, 28, 28, 128)      0         \n",
            " 2D)                                                             \n",
            "                                                                 \n",
            " dropout_5 (Dropout)         (None, 28, 28, 128)       0         \n",
            "                                                                 \n",
            " conv2d_5 (Conv2D)           (None, 28, 28, 256)       295168    \n",
            "                                                                 \n",
            " max_pooling2d_5 (MaxPooling  (None, 14, 14, 256)      0         \n",
            " 2D)                                                             \n",
            "                                                                 \n",
            " dropout_6 (Dropout)         (None, 14, 14, 256)       0         \n",
            "                                                                 \n",
            " flatten_1 (Flatten)         (None, 50176)             0         \n",
            "                                                                 \n",
            " dense_2 (Dense)             (None, 1024)              51381248  \n",
            "                                                                 \n",
            " dropout_7 (Dropout)         (None, 1024)              0         \n",
            "                                                                 \n",
            " dense_3 (Dense)             (None, 5)                 5125      \n",
            "                                                                 \n",
            "=================================================================\n",
            "Total params: 51,794,117\n",
            "Trainable params: 51,794,117\n",
            "Non-trainable params: 0\n",
            "_________________________________________________________________\n"
          ]
        }
      ]
    },
    {
      "cell_type": "code",
      "source": [
        "from PIL import ImageFile\n",
        "ImageFile.LOAD_TRUNCATED_IMAGES = True"
      ],
      "metadata": {
        "id": "hUJ-b2EAZpCL"
      },
      "execution_count": 52,
      "outputs": []
    },
    {
      "cell_type": "code",
      "source": [
        "model.fit(train_generator, epochs = 50,validation_data = validation_generator,verbose=2)"
      ],
      "metadata": {
        "colab": {
          "base_uri": "https://localhost:8080/"
        },
        "id": "H_loy6wIZGyx",
        "outputId": "bf2530ae-ca79-4188-be86-630d18a165ef"
      },
      "execution_count": 53,
      "outputs": [
        {
          "output_type": "stream",
          "name": "stdout",
          "text": [
            "Epoch 1/50\n"
          ]
        },
        {
          "output_type": "stream",
          "name": "stderr",
          "text": [
            "/usr/local/lib/python3.7/dist-packages/PIL/Image.py:960: UserWarning: Palette images with Transparency expressed in bytes should be converted to RGBA images\n",
            "  \"Palette images with Transparency expressed in bytes should be \"\n"
          ]
        },
        {
          "output_type": "stream",
          "name": "stdout",
          "text": [
            "55/55 - 163s - loss: 1.6105 - accuracy: 0.2390 - val_loss: 1.6006 - val_accuracy: 0.2500 - 163s/epoch - 3s/step\n",
            "Epoch 2/50\n",
            "55/55 - 31s - loss: 1.6001 - accuracy: 0.2344 - val_loss: 1.5944 - val_accuracy: 0.2500 - 31s/epoch - 571ms/step\n",
            "Epoch 3/50\n",
            "55/55 - 31s - loss: 1.5946 - accuracy: 0.2367 - val_loss: 1.5870 - val_accuracy: 0.2500 - 31s/epoch - 570ms/step\n",
            "Epoch 4/50\n",
            "55/55 - 30s - loss: 1.5790 - accuracy: 0.2644 - val_loss: 1.4879 - val_accuracy: 0.4022 - 30s/epoch - 547ms/step\n",
            "Epoch 5/50\n",
            "55/55 - 30s - loss: 1.5031 - accuracy: 0.3499 - val_loss: 1.3850 - val_accuracy: 0.5109 - 30s/epoch - 550ms/step\n",
            "Epoch 6/50\n",
            "55/55 - 32s - loss: 1.4691 - accuracy: 0.3903 - val_loss: 1.1711 - val_accuracy: 0.5761 - 32s/epoch - 575ms/step\n",
            "Epoch 7/50\n",
            "55/55 - 32s - loss: 1.4018 - accuracy: 0.4365 - val_loss: 0.9273 - val_accuracy: 0.6304 - 32s/epoch - 577ms/step\n",
            "Epoch 8/50\n",
            "55/55 - 31s - loss: 1.3952 - accuracy: 0.4226 - val_loss: 0.9117 - val_accuracy: 0.6957 - 31s/epoch - 563ms/step\n",
            "Epoch 9/50\n",
            "55/55 - 31s - loss: 1.2862 - accuracy: 0.5012 - val_loss: 0.7567 - val_accuracy: 0.6848 - 31s/epoch - 569ms/step\n",
            "Epoch 10/50\n",
            "55/55 - 31s - loss: 1.2406 - accuracy: 0.5150 - val_loss: 0.8069 - val_accuracy: 0.7717 - 31s/epoch - 569ms/step\n",
            "Epoch 11/50\n",
            "55/55 - 31s - loss: 1.2051 - accuracy: 0.5185 - val_loss: 0.7129 - val_accuracy: 0.7717 - 31s/epoch - 567ms/step\n",
            "Epoch 12/50\n",
            "55/55 - 31s - loss: 1.1842 - accuracy: 0.5346 - val_loss: 0.6625 - val_accuracy: 0.8152 - 31s/epoch - 566ms/step\n",
            "Epoch 13/50\n",
            "55/55 - 31s - loss: 1.0539 - accuracy: 0.6062 - val_loss: 0.5244 - val_accuracy: 0.8587 - 31s/epoch - 559ms/step\n",
            "Epoch 14/50\n",
            "55/55 - 31s - loss: 1.0448 - accuracy: 0.5866 - val_loss: 0.4267 - val_accuracy: 0.8587 - 31s/epoch - 557ms/step\n",
            "Epoch 15/50\n",
            "55/55 - 31s - loss: 0.9736 - accuracy: 0.6339 - val_loss: 0.4518 - val_accuracy: 0.8478 - 31s/epoch - 569ms/step\n",
            "Epoch 16/50\n",
            "55/55 - 32s - loss: 0.9101 - accuracy: 0.6490 - val_loss: 0.4420 - val_accuracy: 0.8696 - 32s/epoch - 575ms/step\n",
            "Epoch 17/50\n",
            "55/55 - 31s - loss: 0.8712 - accuracy: 0.6628 - val_loss: 0.4417 - val_accuracy: 0.8804 - 31s/epoch - 568ms/step\n",
            "Epoch 18/50\n",
            "55/55 - 31s - loss: 0.8264 - accuracy: 0.6998 - val_loss: 0.3466 - val_accuracy: 0.9022 - 31s/epoch - 560ms/step\n",
            "Epoch 19/50\n",
            "55/55 - 31s - loss: 0.7941 - accuracy: 0.6905 - val_loss: 0.2792 - val_accuracy: 0.9457 - 31s/epoch - 562ms/step\n",
            "Epoch 20/50\n",
            "55/55 - 31s - loss: 0.7325 - accuracy: 0.7275 - val_loss: 0.2749 - val_accuracy: 0.9239 - 31s/epoch - 561ms/step\n",
            "Epoch 21/50\n",
            "55/55 - 31s - loss: 0.7147 - accuracy: 0.7263 - val_loss: 0.2778 - val_accuracy: 0.9457 - 31s/epoch - 558ms/step\n",
            "Epoch 22/50\n",
            "55/55 - 31s - loss: 0.7243 - accuracy: 0.7483 - val_loss: 0.2546 - val_accuracy: 0.9239 - 31s/epoch - 557ms/step\n",
            "Epoch 23/50\n",
            "55/55 - 31s - loss: 0.6414 - accuracy: 0.7633 - val_loss: 0.2635 - val_accuracy: 0.9348 - 31s/epoch - 559ms/step\n",
            "Epoch 24/50\n",
            "55/55 - 31s - loss: 0.6246 - accuracy: 0.7794 - val_loss: 0.2564 - val_accuracy: 0.9565 - 31s/epoch - 560ms/step\n",
            "Epoch 25/50\n",
            "55/55 - 31s - loss: 0.5578 - accuracy: 0.7921 - val_loss: 0.2480 - val_accuracy: 0.9348 - 31s/epoch - 557ms/step\n",
            "Epoch 26/50\n",
            "55/55 - 31s - loss: 0.5696 - accuracy: 0.7979 - val_loss: 0.1877 - val_accuracy: 0.9565 - 31s/epoch - 559ms/step\n",
            "Epoch 27/50\n",
            "55/55 - 31s - loss: 0.5626 - accuracy: 0.7956 - val_loss: 0.2128 - val_accuracy: 0.9348 - 31s/epoch - 568ms/step\n",
            "Epoch 28/50\n",
            "55/55 - 31s - loss: 0.5536 - accuracy: 0.8129 - val_loss: 0.1986 - val_accuracy: 0.9239 - 31s/epoch - 572ms/step\n",
            "Epoch 29/50\n",
            "55/55 - 31s - loss: 0.4871 - accuracy: 0.8152 - val_loss: 0.1166 - val_accuracy: 0.9891 - 31s/epoch - 556ms/step\n",
            "Epoch 30/50\n",
            "55/55 - 31s - loss: 0.4408 - accuracy: 0.8360 - val_loss: 0.1565 - val_accuracy: 0.9348 - 31s/epoch - 558ms/step\n",
            "Epoch 31/50\n",
            "55/55 - 30s - loss: 0.4369 - accuracy: 0.8418 - val_loss: 0.1241 - val_accuracy: 0.9783 - 30s/epoch - 546ms/step\n",
            "Epoch 32/50\n",
            "55/55 - 30s - loss: 0.4286 - accuracy: 0.8406 - val_loss: 0.1626 - val_accuracy: 0.9457 - 30s/epoch - 548ms/step\n",
            "Epoch 33/50\n",
            "55/55 - 30s - loss: 0.3720 - accuracy: 0.8626 - val_loss: 0.1014 - val_accuracy: 0.9891 - 30s/epoch - 551ms/step\n",
            "Epoch 34/50\n",
            "55/55 - 30s - loss: 0.3681 - accuracy: 0.8672 - val_loss: 0.0793 - val_accuracy: 1.0000 - 30s/epoch - 544ms/step\n",
            "Epoch 35/50\n",
            "55/55 - 30s - loss: 0.3411 - accuracy: 0.8857 - val_loss: 0.0716 - val_accuracy: 1.0000 - 30s/epoch - 549ms/step\n",
            "Epoch 36/50\n",
            "55/55 - 30s - loss: 0.3307 - accuracy: 0.8880 - val_loss: 0.1006 - val_accuracy: 0.9783 - 30s/epoch - 550ms/step\n",
            "Epoch 37/50\n",
            "55/55 - 30s - loss: 0.3056 - accuracy: 0.8984 - val_loss: 0.0639 - val_accuracy: 0.9783 - 30s/epoch - 545ms/step\n",
            "Epoch 38/50\n",
            "55/55 - 30s - loss: 0.3248 - accuracy: 0.8868 - val_loss: 0.0839 - val_accuracy: 0.9674 - 30s/epoch - 546ms/step\n",
            "Epoch 39/50\n",
            "55/55 - 30s - loss: 0.2568 - accuracy: 0.9169 - val_loss: 0.1053 - val_accuracy: 0.9565 - 30s/epoch - 546ms/step\n",
            "Epoch 40/50\n",
            "55/55 - 30s - loss: 0.2509 - accuracy: 0.9215 - val_loss: 0.0691 - val_accuracy: 0.9674 - 30s/epoch - 550ms/step\n",
            "Epoch 41/50\n",
            "55/55 - 30s - loss: 0.2505 - accuracy: 0.9203 - val_loss: 0.0626 - val_accuracy: 0.9891 - 30s/epoch - 544ms/step\n",
            "Epoch 42/50\n",
            "55/55 - 30s - loss: 0.2315 - accuracy: 0.9203 - val_loss: 0.1118 - val_accuracy: 0.9565 - 30s/epoch - 551ms/step\n",
            "Epoch 43/50\n",
            "55/55 - 30s - loss: 0.2428 - accuracy: 0.9134 - val_loss: 0.1057 - val_accuracy: 0.9891 - 30s/epoch - 544ms/step\n",
            "Epoch 44/50\n",
            "55/55 - 29s - loss: 0.2403 - accuracy: 0.9261 - val_loss: 0.2367 - val_accuracy: 0.8913 - 29s/epoch - 535ms/step\n",
            "Epoch 45/50\n",
            "55/55 - 30s - loss: 0.2476 - accuracy: 0.9249 - val_loss: 0.1638 - val_accuracy: 0.9565 - 30s/epoch - 544ms/step\n",
            "Epoch 46/50\n",
            "55/55 - 30s - loss: 0.2059 - accuracy: 0.9296 - val_loss: 0.0723 - val_accuracy: 0.9783 - 30s/epoch - 547ms/step\n",
            "Epoch 47/50\n",
            "55/55 - 30s - loss: 0.2412 - accuracy: 0.9157 - val_loss: 0.1071 - val_accuracy: 0.9674 - 30s/epoch - 545ms/step\n",
            "Epoch 48/50\n",
            "55/55 - 30s - loss: 0.2612 - accuracy: 0.9145 - val_loss: 0.2284 - val_accuracy: 0.9239 - 30s/epoch - 543ms/step\n",
            "Epoch 49/50\n",
            "55/55 - 29s - loss: 0.1672 - accuracy: 0.9411 - val_loss: 0.1405 - val_accuracy: 0.9565 - 29s/epoch - 535ms/step\n",
            "Epoch 50/50\n",
            "55/55 - 30s - loss: 0.2272 - accuracy: 0.9273 - val_loss: 0.1053 - val_accuracy: 0.9674 - 30s/epoch - 545ms/step\n"
          ]
        },
        {
          "output_type": "execute_result",
          "data": {
            "text/plain": [
              "<keras.callbacks.History at 0x7fdad02b4410>"
            ]
          },
          "metadata": {},
          "execution_count": 53
        }
      ]
    },
    {
      "cell_type": "code",
      "source": [
        ""
      ],
      "metadata": {
        "id": "Y2SzPN02ZZKR"
      },
      "execution_count": null,
      "outputs": []
    }
  ],
  "metadata": {
    "accelerator": "GPU",
    "colab": {
      "collapsed_sections": [],
      "name": "Yoga classification.ipynb",
      "provenance": []
    },
    "kernelspec": {
      "display_name": "Python 3",
      "name": "python3"
    },
    "language_info": {
      "name": "python"
    }
  },
  "nbformat": 4,
  "nbformat_minor": 0
}